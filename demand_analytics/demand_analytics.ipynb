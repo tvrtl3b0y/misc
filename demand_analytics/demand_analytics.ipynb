{
 "cells": [
  {
   "cell_type": "code",
   "execution_count": 1,
   "metadata": {},
   "outputs": [],
   "source": [
    "import pandas as pd\n",
    "import numpy as np\n",
    "from matplotlib import pyplot as plt\n",
    "import seaborn as sns"
   ]
  },
  {
   "cell_type": "code",
   "execution_count": 2,
   "metadata": {},
   "outputs": [
    {
     "data": {
      "text/html": [
       "<div>\n",
       "<style scoped>\n",
       "    .dataframe tbody tr th:only-of-type {\n",
       "        vertical-align: middle;\n",
       "    }\n",
       "\n",
       "    .dataframe tbody tr th {\n",
       "        vertical-align: top;\n",
       "    }\n",
       "\n",
       "    .dataframe thead th {\n",
       "        text-align: right;\n",
       "    }\n",
       "</style>\n",
       "<table border=\"1\" class=\"dataframe\">\n",
       "  <thead>\n",
       "    <tr style=\"text-align: right;\">\n",
       "      <th></th>\n",
       "      <th>event_id</th>\n",
       "      <th>listing_date</th>\n",
       "      <th>event_listing_date_id</th>\n",
       "      <th>taxonomy</th>\n",
       "      <th>event_title</th>\n",
       "      <th>event_datetime</th>\n",
       "      <th>tickets_listed</th>\n",
       "      <th>mean_listing_price</th>\n",
       "      <th>performer_1</th>\n",
       "      <th>performer_2</th>\n",
       "      <th>performer_3</th>\n",
       "      <th>performer_4</th>\n",
       "      <th>venue_name</th>\n",
       "    </tr>\n",
       "  </thead>\n",
       "  <tbody>\n",
       "    <tr>\n",
       "      <th>0</th>\n",
       "      <td>3594116</td>\n",
       "      <td>2017-06-01</td>\n",
       "      <td>3594116_17318</td>\n",
       "      <td>MLB Baseball</td>\n",
       "      <td>Arizona Diamondbacks at Los Angeles Dodgers</td>\n",
       "      <td>2017-07-06 19:10:00</td>\n",
       "      <td>13102.0</td>\n",
       "      <td>48.0</td>\n",
       "      <td>Los Angeles Dodgers</td>\n",
       "      <td>Arizona Diamondbacks</td>\n",
       "      <td>NaN</td>\n",
       "      <td>NaN</td>\n",
       "      <td>Dodger Stadium</td>\n",
       "    </tr>\n",
       "    <tr>\n",
       "      <th>1</th>\n",
       "      <td>3594065</td>\n",
       "      <td>2017-06-01</td>\n",
       "      <td>3594065_17318</td>\n",
       "      <td>MLB Baseball</td>\n",
       "      <td>Arizona Diamondbacks at Los Angeles Dodgers</td>\n",
       "      <td>2017-09-06 19:10:00</td>\n",
       "      <td>8942.0</td>\n",
       "      <td>56.0</td>\n",
       "      <td>Los Angeles Dodgers</td>\n",
       "      <td>Arizona Diamondbacks</td>\n",
       "      <td>NaN</td>\n",
       "      <td>NaN</td>\n",
       "      <td>Dodger Stadium</td>\n",
       "    </tr>\n",
       "    <tr>\n",
       "      <th>2</th>\n",
       "      <td>3594070</td>\n",
       "      <td>2017-06-01</td>\n",
       "      <td>3594070_17318</td>\n",
       "      <td>MLB Baseball</td>\n",
       "      <td>Arizona Diamondbacks at Los Angeles Dodgers</td>\n",
       "      <td>2017-09-04 17:10:00</td>\n",
       "      <td>10344.0</td>\n",
       "      <td>49.0</td>\n",
       "      <td>Los Angeles Dodgers</td>\n",
       "      <td>Arizona Diamondbacks</td>\n",
       "      <td>NaN</td>\n",
       "      <td>NaN</td>\n",
       "      <td>Dodger Stadium</td>\n",
       "    </tr>\n",
       "    <tr>\n",
       "      <th>3</th>\n",
       "      <td>3594118</td>\n",
       "      <td>2017-06-01</td>\n",
       "      <td>3594118_17318</td>\n",
       "      <td>MLB Baseball</td>\n",
       "      <td>Arizona Diamondbacks at Los Angeles Dodgers</td>\n",
       "      <td>2017-07-05 19:10:00</td>\n",
       "      <td>13130.0</td>\n",
       "      <td>32.0</td>\n",
       "      <td>Los Angeles Dodgers</td>\n",
       "      <td>Arizona Diamondbacks</td>\n",
       "      <td>NaN</td>\n",
       "      <td>NaN</td>\n",
       "      <td>Dodger Stadium</td>\n",
       "    </tr>\n",
       "    <tr>\n",
       "      <th>4</th>\n",
       "      <td>3594068</td>\n",
       "      <td>2017-06-01</td>\n",
       "      <td>3594068_17318</td>\n",
       "      <td>MLB Baseball</td>\n",
       "      <td>Arizona Diamondbacks at Los Angeles Dodgers</td>\n",
       "      <td>2017-09-05 19:10:00</td>\n",
       "      <td>11642.0</td>\n",
       "      <td>32.0</td>\n",
       "      <td>Los Angeles Dodgers</td>\n",
       "      <td>Arizona Diamondbacks</td>\n",
       "      <td>NaN</td>\n",
       "      <td>NaN</td>\n",
       "      <td>Dodger Stadium</td>\n",
       "    </tr>\n",
       "  </tbody>\n",
       "</table>\n",
       "</div>"
      ],
      "text/plain": [
       "   event_id listing_date event_listing_date_id      taxonomy  \\\n",
       "0   3594116   2017-06-01         3594116_17318  MLB Baseball   \n",
       "1   3594065   2017-06-01         3594065_17318  MLB Baseball   \n",
       "2   3594070   2017-06-01         3594070_17318  MLB Baseball   \n",
       "3   3594118   2017-06-01         3594118_17318  MLB Baseball   \n",
       "4   3594068   2017-06-01         3594068_17318  MLB Baseball   \n",
       "\n",
       "                                   event_title      event_datetime  \\\n",
       "0  Arizona Diamondbacks at Los Angeles Dodgers 2017-07-06 19:10:00   \n",
       "1  Arizona Diamondbacks at Los Angeles Dodgers 2017-09-06 19:10:00   \n",
       "2  Arizona Diamondbacks at Los Angeles Dodgers 2017-09-04 17:10:00   \n",
       "3  Arizona Diamondbacks at Los Angeles Dodgers 2017-07-05 19:10:00   \n",
       "4  Arizona Diamondbacks at Los Angeles Dodgers 2017-09-05 19:10:00   \n",
       "\n",
       "   tickets_listed  mean_listing_price          performer_1  \\\n",
       "0         13102.0                48.0  Los Angeles Dodgers   \n",
       "1          8942.0                56.0  Los Angeles Dodgers   \n",
       "2         10344.0                49.0  Los Angeles Dodgers   \n",
       "3         13130.0                32.0  Los Angeles Dodgers   \n",
       "4         11642.0                32.0  Los Angeles Dodgers   \n",
       "\n",
       "            performer_2 performer_3 performer_4      venue_name  \n",
       "0  Arizona Diamondbacks         NaN         NaN  Dodger Stadium  \n",
       "1  Arizona Diamondbacks         NaN         NaN  Dodger Stadium  \n",
       "2  Arizona Diamondbacks         NaN         NaN  Dodger Stadium  \n",
       "3  Arizona Diamondbacks         NaN         NaN  Dodger Stadium  \n",
       "4  Arizona Diamondbacks         NaN         NaN  Dodger Stadium  "
      ]
     },
     "execution_count": 2,
     "metadata": {},
     "output_type": "execute_result"
    }
   ],
   "source": [
    "df = pd.read_csv('data/assessment_data.tsv', sep='\\t', parse_dates=True)\n",
    "df['listing_date'] = pd.to_datetime(df.listing_date)\n",
    "df['event_datetime'] = pd.to_datetime(df.event_datetime)\n",
    "df.head()"
   ]
  },
  {
   "cell_type": "code",
   "execution_count": 3,
   "metadata": {},
   "outputs": [
    {
     "data": {
      "text/plain": [
       "event_id                          int64\n",
       "listing_date             datetime64[ns]\n",
       "event_listing_date_id            object\n",
       "taxonomy                         object\n",
       "event_title                      object\n",
       "event_datetime           datetime64[ns]\n",
       "tickets_listed                  float64\n",
       "mean_listing_price              float64\n",
       "performer_1                      object\n",
       "performer_2                      object\n",
       "performer_3                      object\n",
       "performer_4                      object\n",
       "venue_name                       object\n",
       "dtype: object"
      ]
     },
     "execution_count": 3,
     "metadata": {},
     "output_type": "execute_result"
    }
   ],
   "source": [
    "df.dtypes"
   ]
  },
  {
   "cell_type": "code",
   "execution_count": 4,
   "metadata": {},
   "outputs": [
    {
     "data": {
      "text/plain": [
       "<matplotlib.axes._subplots.AxesSubplot at 0x257a2f22ec8>"
      ]
     },
     "execution_count": 4,
     "metadata": {},
     "output_type": "execute_result"
    },
    {
     "data": {
      "image/png": "[encoded data removed]",
      "text/plain": [
       "<Figure size 432x288 with 2 Axes>"
      ]
     },
     "metadata": {
      "needs_background": "light"
     },
     "output_type": "display_data"
    }
   ],
   "source": [
    "sns.heatmap(df.isna())"
   ]
  },
  {
   "cell_type": "markdown",
   "metadata": {},
   "source": [
    "# Data Analysis\n",
    "\n",
    "Understand features more to understand how to build the model\n",
    "\n",
    "- Understand central tendency and distribution of features\n",
    "- Understand correlation between features and target variables"
   ]
  },
  {
   "cell_type": "code",
   "execution_count": 5,
   "metadata": {},
   "outputs": [
    {
     "data": {
      "text/plain": [
       "Index(['event_id', 'listing_date', 'event_listing_date_id', 'taxonomy',\n",
       "       'event_title', 'event_datetime', 'tickets_listed', 'mean_listing_price',\n",
       "       'performer_1', 'performer_2', 'performer_3', 'performer_4',\n",
       "       'venue_name'],\n",
       "      dtype='object')"
      ]
     },
     "execution_count": 5,
     "metadata": {},
     "output_type": "execute_result"
    }
   ],
   "source": [
    "df.columns"
   ]
  },
  {
   "cell_type": "markdown",
   "metadata": {},
   "source": [
    "## Taxonomy"
   ]
  },
  {
   "cell_type": "code",
   "execution_count": 6,
   "metadata": {},
   "outputs": [
    {
     "data": {
      "text/plain": [
       "<matplotlib.axes._subplots.AxesSubplot at 0x257a4825188>"
      ]
     },
     "execution_count": 6,
     "metadata": {},
     "output_type": "execute_result"
    },
    {
     "data": {
      "image/png": "[encoded data removed]",
      "text/plain": [
       "<Figure size 432x288 with 1 Axes>"
      ]
     },
     "metadata": {
      "needs_background": "light"
     },
     "output_type": "display_data"
    }
   ],
   "source": [
    "sns.barplot(\n",
    "    x=df.taxonomy.value_counts().index,\n",
    "    y=df.taxonomy.value_counts()\n",
    ")"
   ]
  },
  {
   "cell_type": "code",
   "execution_count": 7,
   "metadata": {},
   "outputs": [
    {
     "data": {
      "text/html": [
       "<div>\n",
       "<style scoped>\n",
       "    .dataframe tbody tr th:only-of-type {\n",
       "        vertical-align: middle;\n",
       "    }\n",
       "\n",
       "    .dataframe tbody tr th {\n",
       "        vertical-align: top;\n",
       "    }\n",
       "\n",
       "    .dataframe thead th {\n",
       "        text-align: right;\n",
       "    }\n",
       "</style>\n",
       "<table border=\"1\" class=\"dataframe\">\n",
       "  <thead>\n",
       "    <tr style=\"text-align: right;\">\n",
       "      <th></th>\n",
       "      <th>tickets_listed</th>\n",
       "      <th>mean_listing_price</th>\n",
       "    </tr>\n",
       "    <tr>\n",
       "      <th>taxonomy</th>\n",
       "      <th></th>\n",
       "      <th></th>\n",
       "    </tr>\n",
       "  </thead>\n",
       "  <tbody>\n",
       "    <tr>\n",
       "      <th>Classical Orchestral</th>\n",
       "      <td>41.423560</td>\n",
       "      <td>543.278657</td>\n",
       "    </tr>\n",
       "    <tr>\n",
       "      <th>MLB Baseball</th>\n",
       "      <td>9240.490428</td>\n",
       "      <td>51.392707</td>\n",
       "    </tr>\n",
       "    <tr>\n",
       "      <th>Minor League Baseball</th>\n",
       "      <td>44.144700</td>\n",
       "      <td>35.337706</td>\n",
       "    </tr>\n",
       "  </tbody>\n",
       "</table>\n",
       "</div>"
      ],
      "text/plain": [
       "                       tickets_listed  mean_listing_price\n",
       "taxonomy                                                 \n",
       "Classical Orchestral        41.423560          543.278657\n",
       "MLB Baseball              9240.490428           51.392707\n",
       "Minor League Baseball       44.144700           35.337706"
      ]
     },
     "execution_count": 7,
     "metadata": {},
     "output_type": "execute_result"
    }
   ],
   "source": [
    "df.groupby('taxonomy')[['tickets_listed', 'mean_listing_price']].mean()"
   ]
  },
  {
   "cell_type": "markdown",
   "metadata": {},
   "source": [
    "There is definitely an interaction between taxonomy and the target variables, so we'll end up using these. There are a few `null` values for taxonomy, but we can easily fill them in based on the event title or venue name. Note that we'll have to do this both for `df_model` and `df_holdout`. Afterwards, we can apply one-hot encoding to `taxonomy`."
   ]
  },
  {
   "cell_type": "markdown",
   "metadata": {},
   "source": [
    "## Event Datetime"
   ]
  },
  {
   "cell_type": "code",
   "execution_count": 18,
   "metadata": {},
   "outputs": [],
   "source": [
    "df_analysis = df.copy()\n",
    "target_variables = ['tickets_listed', 'mean_listing_price']"
   ]
  },
  {
   "cell_type": "code",
   "execution_count": 9,
   "metadata": {},
   "outputs": [
    {
     "data": {
      "text/plain": [
       "<matplotlib.axes._subplots.AxesSubplot at 0x257a48b9188>"
      ]
     },
     "execution_count": 9,
     "metadata": {},
     "output_type": "execute_result"
    },
    {
     "data": {
      "image/png": "[encoded data removed]",
      "text/plain": [
       "<Figure size 432x288 with 1 Axes>"
      ]
     },
     "metadata": {
      "needs_background": "light"
     },
     "output_type": "display_data"
    }
   ],
   "source": [
    "sns.histplot((df_analysis.event_datetime - df_analysis.listing_date).dt.days)"
   ]
  },
  {
   "cell_type": "code",
   "execution_count": 10,
   "metadata": {},
   "outputs": [
    {
     "data": {
      "text/plain": [
       "<matplotlib.axes._subplots.AxesSubplot at 0x257a49d2e08>"
      ]
     },
     "execution_count": 10,
     "metadata": {},
     "output_type": "execute_result"
    },
    {
     "data": {
      "image/png": "[encoded data removed]",
      "text/plain": [
       "<Figure size 432x288 with 1 Axes>"
      ]
     },
     "metadata": {
      "needs_background": "light"
     },
     "output_type": "display_data"
    }
   ],
   "source": [
    "sns.scatterplot(\n",
    "    x=(df_analysis.event_datetime - df_analysis.listing_date).dt.days,\n",
    "    y=df_analysis.tickets_listed\n",
    ")"
   ]
  },
  {
   "cell_type": "code",
   "execution_count": 11,
   "metadata": {},
   "outputs": [
    {
     "data": {
      "text/plain": [
       "<matplotlib.axes._subplots.AxesSubplot at 0x257a4a61fc8>"
      ]
     },
     "execution_count": 11,
     "metadata": {},
     "output_type": "execute_result"
    },
    {
     "data": {
      "image/png": "[encoded data removed]",
      "text/plain": [
       "<Figure size 432x288 with 1 Axes>"
      ]
     },
     "metadata": {
      "needs_background": "light"
     },
     "output_type": "display_data"
    }
   ],
   "source": [
    "sns.scatterplot(\n",
    "    x=(df_analysis.event_datetime - df_analysis.listing_date).dt.days,\n",
    "    y=df_analysis.mean_listing_price\n",
    ")"
   ]
  },
  {
   "cell_type": "markdown",
   "metadata": {},
   "source": [
    "It looks like the number of days between the listing date and the event datetime has somewhat of a correlation with tickets listed, but not with mean listing price. The correlation doesn't look to be that strong either, and I might have to transform it into an exponential function. We can either normalize the day difference, or simple split them into two groups: < 250 day difference and 250+ day difference."
   ]
  },
  {
   "cell_type": "markdown",
   "metadata": {},
   "source": [
    "## Performers\n",
    "\n",
    "There are multiple columns for performers, and there are too many unique values if we consider all of them. I can think of a few ways to summarize these pieces of information:\n",
    "\n",
    "- Only include the # of performers\n",
    "- Separate groups into top 3 most common of their respective taxonomies (i.e. `has_performer_in_top3_within_taxonomy`)\n",
    "- Separate groups into top 3 highest listing of their respective taxonomies\n",
    "- Separate groups into top 3 highest mean listing price of their respective taxonomies"
   ]
  },
  {
   "cell_type": "code",
   "execution_count": 12,
   "metadata": {},
   "outputs": [
    {
     "data": {
      "text/plain": [
       "Los Angeles Philharmonic    4081\n",
       "Los Angeles Dodgers         2742\n",
       "Oklahoma City Dodgers        847\n",
       "New Orleans Baby Cakes       520\n",
       "Round Rock Express           312\n",
       "Memphis Redbirds             186\n",
       "Iowa Cubs                     99\n",
       "Nashville Sounds              90\n",
       "M. Ward                       48\n",
       "Cafe Tacuba                   45\n",
       "John Pizzarelli               10\n",
       "Name: performer_1, dtype: int64"
      ]
     },
     "execution_count": 12,
     "metadata": {},
     "output_type": "execute_result"
    }
   ],
   "source": [
    "df_analysis.performer_1.value_counts().sort_values(ascending=False)"
   ]
  },
  {
   "cell_type": "code",
   "execution_count": 13,
   "metadata": {},
   "outputs": [
    {
     "data": {
      "text/plain": [
       "Oklahoma City Dodgers            1207\n",
       "San Diego Padres                  477\n",
       "San Francisco Giants              435\n",
       "Colorado Rockies                  425\n",
       "Omaha Storm Chasers               391\n",
       "Gustavo Dudamel                   384\n",
       "Arizona Diamondbacks              366\n",
       "Milwaukee Brewers                 252\n",
       "Tacoma Rainiers                   230\n",
       "Reno Aces                         216\n",
       "Atlanta Braves                    198\n",
       "Minnesota Twins                   159\n",
       "Hilary Hahn                       150\n",
       "Chicago White Sox                 147\n",
       "Kansas City Royals                108\n",
       "Los Angeles Philharmonic          103\n",
       "New York Mets                      78\n",
       "Los Angeles Angels                 49\n",
       "Gil Shaham                         48\n",
       "Riccardo Muti                      48\n",
       "Natalia LaFourcade                 48\n",
       "Israel Philharmonic Orchestra      45\n",
       "Cincinnati Reds                    30\n",
       "Mirga Grazinyte-Tyla               30\n",
       "Washington Nationals               18\n",
       "Marc Lowenstein                    13\n",
       "Colorado Springs Sky Sox           10\n",
       "The Phantom of the Opera            2\n",
       "American Youth Symphony             1\n",
       "Name: performer_2, dtype: int64"
      ]
     },
     "execution_count": 13,
     "metadata": {},
     "output_type": "execute_result"
    }
   ],
   "source": [
    "df_analysis.performer_2.value_counts().sort_values(ascending=False)"
   ]
  },
  {
   "cell_type": "code",
   "execution_count": 14,
   "metadata": {},
   "outputs": [
    {
     "data": {
      "text/plain": [
       "Gustavo Dudamel               103\n",
       "Chicago Symphony Orchestra     48\n",
       "Rhiannon Giddens               48\n",
       "Hilary Hahn                     1\n",
       "Los Angeles Angels              1\n",
       "Name: performer_3, dtype: int64"
      ]
     },
     "execution_count": 14,
     "metadata": {},
     "output_type": "execute_result"
    }
   ],
   "source": [
    "df_analysis.performer_3.value_counts().sort_values(ascending=False)"
   ]
  },
  {
   "cell_type": "code",
   "execution_count": 15,
   "metadata": {},
   "outputs": [
    {
     "data": {
      "text/plain": [
       "Yuja Wang                        10\n",
       "Los Angeles Children's Chorus     1\n",
       "Name: performer_4, dtype: int64"
      ]
     },
     "execution_count": 15,
     "metadata": {},
     "output_type": "execute_result"
    }
   ],
   "source": [
    "df_analysis.performer_4.value_counts().sort_values(ascending=False)"
   ]
  },
  {
   "cell_type": "code",
   "execution_count": 23,
   "metadata": {},
   "outputs": [],
   "source": [
    "performer_columns = ['performer_1', 'performer_2', 'performer_3', 'performer_4']\n",
    "df_analysis['num_performers'] = df_analysis[performer_columns].notna().sum(axis=1)"
   ]
  },
  {
   "cell_type": "code",
   "execution_count": 24,
   "metadata": {},
   "outputs": [
    {
     "data": {
      "text/html": [
       "<div>\n",
       "<style scoped>\n",
       "    .dataframe tbody tr th:only-of-type {\n",
       "        vertical-align: middle;\n",
       "    }\n",
       "\n",
       "    .dataframe tbody tr th {\n",
       "        vertical-align: top;\n",
       "    }\n",
       "\n",
       "    .dataframe thead th {\n",
       "        text-align: right;\n",
       "    }\n",
       "</style>\n",
       "<table border=\"1\" class=\"dataframe\">\n",
       "  <thead>\n",
       "    <tr style=\"text-align: right;\">\n",
       "      <th></th>\n",
       "      <th>tickets_listed</th>\n",
       "      <th>mean_listing_price</th>\n",
       "    </tr>\n",
       "    <tr>\n",
       "      <th>num_performers</th>\n",
       "      <th></th>\n",
       "      <th></th>\n",
       "    </tr>\n",
       "  </thead>\n",
       "  <tbody>\n",
       "    <tr>\n",
       "      <th>1</th>\n",
       "      <td>41.863834</td>\n",
       "      <td>544.853660</td>\n",
       "    </tr>\n",
       "    <tr>\n",
       "      <th>2</th>\n",
       "      <td>4859.897301</td>\n",
       "      <td>68.885765</td>\n",
       "    </tr>\n",
       "    <tr>\n",
       "      <th>3</th>\n",
       "      <td>217.060606</td>\n",
       "      <td>423.767424</td>\n",
       "    </tr>\n",
       "    <tr>\n",
       "      <th>4</th>\n",
       "      <td>34.000000</td>\n",
       "      <td>702.700000</td>\n",
       "    </tr>\n",
       "  </tbody>\n",
       "</table>\n",
       "</div>"
      ],
      "text/plain": [
       "                tickets_listed  mean_listing_price\n",
       "num_performers                                    \n",
       "1                    41.863834          544.853660\n",
       "2                  4859.897301           68.885765\n",
       "3                   217.060606          423.767424\n",
       "4                    34.000000          702.700000"
      ]
     },
     "execution_count": 24,
     "metadata": {},
     "output_type": "execute_result"
    }
   ],
   "source": [
    "df_analysis.groupby('num_performers')[target_variables].mean()"
   ]
  },
  {
   "cell_type": "code",
   "execution_count": 25,
   "metadata": {},
   "outputs": [
    {
     "data": {
      "text/html": [
       "<div>\n",
       "<style scoped>\n",
       "    .dataframe tbody tr th:only-of-type {\n",
       "        vertical-align: middle;\n",
       "    }\n",
       "\n",
       "    .dataframe tbody tr th {\n",
       "        vertical-align: top;\n",
       "    }\n",
       "\n",
       "    .dataframe thead th {\n",
       "        text-align: right;\n",
       "    }\n",
       "</style>\n",
       "<table border=\"1\" class=\"dataframe\">\n",
       "  <thead>\n",
       "    <tr style=\"text-align: right;\">\n",
       "      <th></th>\n",
       "      <th>event_id</th>\n",
       "      <th>listing_date</th>\n",
       "      <th>event_listing_date_id</th>\n",
       "      <th>taxonomy</th>\n",
       "      <th>event_title</th>\n",
       "      <th>event_datetime</th>\n",
       "      <th>tickets_listed</th>\n",
       "      <th>mean_listing_price</th>\n",
       "      <th>performer_1</th>\n",
       "      <th>performer_2</th>\n",
       "      <th>performer_3</th>\n",
       "      <th>performer_4</th>\n",
       "      <th>venue_name</th>\n",
       "      <th>num_performers</th>\n",
       "    </tr>\n",
       "  </thead>\n",
       "  <tbody>\n",
       "    <tr>\n",
       "      <th>44</th>\n",
       "      <td>3555599</td>\n",
       "      <td>2017-06-01</td>\n",
       "      <td>3555599_17318</td>\n",
       "      <td>Classical Orchestral</td>\n",
       "      <td>Los Angeles Philharmonic: Gustavo Dudamel &amp; Yu...</td>\n",
       "      <td>2017-06-02 11:00:00</td>\n",
       "      <td>34.0</td>\n",
       "      <td>842.0</td>\n",
       "      <td>John Pizzarelli</td>\n",
       "      <td>Los Angeles Philharmonic</td>\n",
       "      <td>Gustavo Dudamel</td>\n",
       "      <td>Yuja Wang</td>\n",
       "      <td>Walt Disney Concert Hall</td>\n",
       "      <td>4</td>\n",
       "    </tr>\n",
       "    <tr>\n",
       "      <th>45</th>\n",
       "      <td>3209668</td>\n",
       "      <td>2017-06-01</td>\n",
       "      <td>3209668_17318</td>\n",
       "      <td>Classical Orchestral</td>\n",
       "      <td>Los Angeles Philharmonic: Gustavo Dudamel &amp; Yu...</td>\n",
       "      <td>2017-06-01 20:00:00</td>\n",
       "      <td>16.0</td>\n",
       "      <td>839.0</td>\n",
       "      <td>John Pizzarelli</td>\n",
       "      <td>Los Angeles Philharmonic</td>\n",
       "      <td>Gustavo Dudamel</td>\n",
       "      <td>Yuja Wang</td>\n",
       "      <td>Walt Disney Concert Hall</td>\n",
       "      <td>4</td>\n",
       "    </tr>\n",
       "    <tr>\n",
       "      <th>46</th>\n",
       "      <td>3209665</td>\n",
       "      <td>2017-06-01</td>\n",
       "      <td>3209665_17318</td>\n",
       "      <td>Classical Orchestral</td>\n",
       "      <td>Los Angeles Philharmonic: Gustavo Dudamel &amp; Yu...</td>\n",
       "      <td>2017-06-04 14:00:00</td>\n",
       "      <td>58.0</td>\n",
       "      <td>761.0</td>\n",
       "      <td>John Pizzarelli</td>\n",
       "      <td>Los Angeles Philharmonic</td>\n",
       "      <td>Gustavo Dudamel</td>\n",
       "      <td>Yuja Wang</td>\n",
       "      <td>Walt Disney Concert Hall</td>\n",
       "      <td>4</td>\n",
       "    </tr>\n",
       "    <tr>\n",
       "      <th>47</th>\n",
       "      <td>3209666</td>\n",
       "      <td>2017-06-01</td>\n",
       "      <td>3209666_17318</td>\n",
       "      <td>Classical Orchestral</td>\n",
       "      <td>Los Angeles Philharmonic: Gustavo Dudamel &amp; Yu...</td>\n",
       "      <td>2017-06-03 20:00:00</td>\n",
       "      <td>53.0</td>\n",
       "      <td>798.0</td>\n",
       "      <td>John Pizzarelli</td>\n",
       "      <td>Los Angeles Philharmonic</td>\n",
       "      <td>Gustavo Dudamel</td>\n",
       "      <td>Yuja Wang</td>\n",
       "      <td>Walt Disney Concert Hall</td>\n",
       "      <td>4</td>\n",
       "    </tr>\n",
       "    <tr>\n",
       "      <th>184</th>\n",
       "      <td>3555599</td>\n",
       "      <td>2017-06-02</td>\n",
       "      <td>3555599_17319</td>\n",
       "      <td>Classical Orchestral</td>\n",
       "      <td>Los Angeles Philharmonic: Gustavo Dudamel &amp; Yu...</td>\n",
       "      <td>2017-06-02 11:00:00</td>\n",
       "      <td>34.0</td>\n",
       "      <td>842.0</td>\n",
       "      <td>John Pizzarelli</td>\n",
       "      <td>Los Angeles Philharmonic</td>\n",
       "      <td>Gustavo Dudamel</td>\n",
       "      <td>Yuja Wang</td>\n",
       "      <td>Walt Disney Concert Hall</td>\n",
       "      <td>4</td>\n",
       "    </tr>\n",
       "    <tr>\n",
       "      <th>185</th>\n",
       "      <td>3209665</td>\n",
       "      <td>2017-06-02</td>\n",
       "      <td>3209665_17319</td>\n",
       "      <td>Classical Orchestral</td>\n",
       "      <td>Los Angeles Philharmonic: Gustavo Dudamel &amp; Yu...</td>\n",
       "      <td>2017-06-04 14:00:00</td>\n",
       "      <td>50.0</td>\n",
       "      <td>798.0</td>\n",
       "      <td>John Pizzarelli</td>\n",
       "      <td>Los Angeles Philharmonic</td>\n",
       "      <td>Gustavo Dudamel</td>\n",
       "      <td>Yuja Wang</td>\n",
       "      <td>Walt Disney Concert Hall</td>\n",
       "      <td>4</td>\n",
       "    </tr>\n",
       "    <tr>\n",
       "      <th>186</th>\n",
       "      <td>3209666</td>\n",
       "      <td>2017-06-02</td>\n",
       "      <td>3209666_17319</td>\n",
       "      <td>Classical Orchestral</td>\n",
       "      <td>Los Angeles Philharmonic: Gustavo Dudamel &amp; Yu...</td>\n",
       "      <td>2017-06-03 20:00:00</td>\n",
       "      <td>5.0</td>\n",
       "      <td>241.0</td>\n",
       "      <td>John Pizzarelli</td>\n",
       "      <td>Los Angeles Philharmonic</td>\n",
       "      <td>Gustavo Dudamel</td>\n",
       "      <td>Yuja Wang</td>\n",
       "      <td>Walt Disney Concert Hall</td>\n",
       "      <td>4</td>\n",
       "    </tr>\n",
       "    <tr>\n",
       "      <th>322</th>\n",
       "      <td>3209665</td>\n",
       "      <td>2017-06-03</td>\n",
       "      <td>3209665_17320</td>\n",
       "      <td>Classical Orchestral</td>\n",
       "      <td>Los Angeles Philharmonic: Gustavo Dudamel &amp; Yu...</td>\n",
       "      <td>2017-06-04 14:00:00</td>\n",
       "      <td>47.0</td>\n",
       "      <td>815.0</td>\n",
       "      <td>John Pizzarelli</td>\n",
       "      <td>Los Angeles Philharmonic</td>\n",
       "      <td>Gustavo Dudamel</td>\n",
       "      <td>Yuja Wang</td>\n",
       "      <td>Walt Disney Concert Hall</td>\n",
       "      <td>4</td>\n",
       "    </tr>\n",
       "    <tr>\n",
       "      <th>323</th>\n",
       "      <td>3209666</td>\n",
       "      <td>2017-06-03</td>\n",
       "      <td>3209666_17320</td>\n",
       "      <td>Classical Orchestral</td>\n",
       "      <td>Los Angeles Philharmonic: Gustavo Dudamel &amp; Yu...</td>\n",
       "      <td>2017-06-03 20:00:00</td>\n",
       "      <td>3.0</td>\n",
       "      <td>250.0</td>\n",
       "      <td>John Pizzarelli</td>\n",
       "      <td>Los Angeles Philharmonic</td>\n",
       "      <td>Gustavo Dudamel</td>\n",
       "      <td>Yuja Wang</td>\n",
       "      <td>Walt Disney Concert Hall</td>\n",
       "      <td>4</td>\n",
       "    </tr>\n",
       "    <tr>\n",
       "      <th>458</th>\n",
       "      <td>3209665</td>\n",
       "      <td>2017-06-04</td>\n",
       "      <td>3209665_17321</td>\n",
       "      <td>Classical Orchestral</td>\n",
       "      <td>Los Angeles Philharmonic: Gustavo Dudamel &amp; Yu...</td>\n",
       "      <td>2017-06-04 14:00:00</td>\n",
       "      <td>40.0</td>\n",
       "      <td>841.0</td>\n",
       "      <td>John Pizzarelli</td>\n",
       "      <td>Los Angeles Philharmonic</td>\n",
       "      <td>Gustavo Dudamel</td>\n",
       "      <td>Yuja Wang</td>\n",
       "      <td>Walt Disney Concert Hall</td>\n",
       "      <td>4</td>\n",
       "    </tr>\n",
       "    <tr>\n",
       "      <th>8292</th>\n",
       "      <td>3799861</td>\n",
       "      <td>2017-08-23</td>\n",
       "      <td>3799861_17401</td>\n",
       "      <td>Classical Orchestral</td>\n",
       "      <td>Los Angeles Philharmonic: Childrens Chorus - L...</td>\n",
       "      <td>2017-12-03 19:00:00</td>\n",
       "      <td>NaN</td>\n",
       "      <td>NaN</td>\n",
       "      <td>Los Angeles Philharmonic</td>\n",
       "      <td>American Youth Symphony</td>\n",
       "      <td>Hilary Hahn</td>\n",
       "      <td>Los Angeles Children's Chorus</td>\n",
       "      <td>Walt Disney Concert Hall</td>\n",
       "      <td>4</td>\n",
       "    </tr>\n",
       "  </tbody>\n",
       "</table>\n",
       "</div>"
      ],
      "text/plain": [
       "      event_id listing_date event_listing_date_id              taxonomy  \\\n",
       "44     3555599   2017-06-01         3555599_17318  Classical Orchestral   \n",
       "45     3209668   2017-06-01         3209668_17318  Classical Orchestral   \n",
       "46     3209665   2017-06-01         3209665_17318  Classical Orchestral   \n",
       "47     3209666   2017-06-01         3209666_17318  Classical Orchestral   \n",
       "184    3555599   2017-06-02         3555599_17319  Classical Orchestral   \n",
       "185    3209665   2017-06-02         3209665_17319  Classical Orchestral   \n",
       "186    3209666   2017-06-02         3209666_17319  Classical Orchestral   \n",
       "322    3209665   2017-06-03         3209665_17320  Classical Orchestral   \n",
       "323    3209666   2017-06-03         3209666_17320  Classical Orchestral   \n",
       "458    3209665   2017-06-04         3209665_17321  Classical Orchestral   \n",
       "8292   3799861   2017-08-23         3799861_17401  Classical Orchestral   \n",
       "\n",
       "                                            event_title      event_datetime  \\\n",
       "44    Los Angeles Philharmonic: Gustavo Dudamel & Yu... 2017-06-02 11:00:00   \n",
       "45    Los Angeles Philharmonic: Gustavo Dudamel & Yu... 2017-06-01 20:00:00   \n",
       "46    Los Angeles Philharmonic: Gustavo Dudamel & Yu... 2017-06-04 14:00:00   \n",
       "47    Los Angeles Philharmonic: Gustavo Dudamel & Yu... 2017-06-03 20:00:00   \n",
       "184   Los Angeles Philharmonic: Gustavo Dudamel & Yu... 2017-06-02 11:00:00   \n",
       "185   Los Angeles Philharmonic: Gustavo Dudamel & Yu... 2017-06-04 14:00:00   \n",
       "186   Los Angeles Philharmonic: Gustavo Dudamel & Yu... 2017-06-03 20:00:00   \n",
       "322   Los Angeles Philharmonic: Gustavo Dudamel & Yu... 2017-06-04 14:00:00   \n",
       "323   Los Angeles Philharmonic: Gustavo Dudamel & Yu... 2017-06-03 20:00:00   \n",
       "458   Los Angeles Philharmonic: Gustavo Dudamel & Yu... 2017-06-04 14:00:00   \n",
       "8292  Los Angeles Philharmonic: Childrens Chorus - L... 2017-12-03 19:00:00   \n",
       "\n",
       "      tickets_listed  mean_listing_price               performer_1  \\\n",
       "44              34.0               842.0           John Pizzarelli   \n",
       "45              16.0               839.0           John Pizzarelli   \n",
       "46              58.0               761.0           John Pizzarelli   \n",
       "47              53.0               798.0           John Pizzarelli   \n",
       "184             34.0               842.0           John Pizzarelli   \n",
       "185             50.0               798.0           John Pizzarelli   \n",
       "186              5.0               241.0           John Pizzarelli   \n",
       "322             47.0               815.0           John Pizzarelli   \n",
       "323              3.0               250.0           John Pizzarelli   \n",
       "458             40.0               841.0           John Pizzarelli   \n",
       "8292             NaN                 NaN  Los Angeles Philharmonic   \n",
       "\n",
       "                   performer_2      performer_3  \\\n",
       "44    Los Angeles Philharmonic  Gustavo Dudamel   \n",
       "45    Los Angeles Philharmonic  Gustavo Dudamel   \n",
       "46    Los Angeles Philharmonic  Gustavo Dudamel   \n",
       "47    Los Angeles Philharmonic  Gustavo Dudamel   \n",
       "184   Los Angeles Philharmonic  Gustavo Dudamel   \n",
       "185   Los Angeles Philharmonic  Gustavo Dudamel   \n",
       "186   Los Angeles Philharmonic  Gustavo Dudamel   \n",
       "322   Los Angeles Philharmonic  Gustavo Dudamel   \n",
       "323   Los Angeles Philharmonic  Gustavo Dudamel   \n",
       "458   Los Angeles Philharmonic  Gustavo Dudamel   \n",
       "8292   American Youth Symphony      Hilary Hahn   \n",
       "\n",
       "                        performer_4                venue_name  num_performers  \n",
       "44                        Yuja Wang  Walt Disney Concert Hall               4  \n",
       "45                        Yuja Wang  Walt Disney Concert Hall               4  \n",
       "46                        Yuja Wang  Walt Disney Concert Hall               4  \n",
       "47                        Yuja Wang  Walt Disney Concert Hall               4  \n",
       "184                       Yuja Wang  Walt Disney Concert Hall               4  \n",
       "185                       Yuja Wang  Walt Disney Concert Hall               4  \n",
       "186                       Yuja Wang  Walt Disney Concert Hall               4  \n",
       "322                       Yuja Wang  Walt Disney Concert Hall               4  \n",
       "323                       Yuja Wang  Walt Disney Concert Hall               4  \n",
       "458                       Yuja Wang  Walt Disney Concert Hall               4  \n",
       "8292  Los Angeles Children's Chorus  Walt Disney Concert Hall               4  "
      ]
     },
     "execution_count": 25,
     "metadata": {},
     "output_type": "execute_result"
    }
   ],
   "source": [
    "df_analysis.loc[df_analysis.num_performers == 4]"
   ]
  },
  {
   "cell_type": "code",
   "execution_count": 27,
   "metadata": {},
   "outputs": [
    {
     "data": {
      "text/html": [
       "<div>\n",
       "<style scoped>\n",
       "    .dataframe tbody tr th:only-of-type {\n",
       "        vertical-align: middle;\n",
       "    }\n",
       "\n",
       "    .dataframe tbody tr th {\n",
       "        vertical-align: top;\n",
       "    }\n",
       "\n",
       "    .dataframe thead tr th {\n",
       "        text-align: left;\n",
       "    }\n",
       "\n",
       "    .dataframe thead tr:last-of-type th {\n",
       "        text-align: right;\n",
       "    }\n",
       "</style>\n",
       "<table border=\"1\" class=\"dataframe\">\n",
       "  <thead>\n",
       "    <tr>\n",
       "      <th></th>\n",
       "      <th colspan=\"2\" halign=\"left\">tickets_listed</th>\n",
       "      <th colspan=\"2\" halign=\"left\">mean_listing_price</th>\n",
       "    </tr>\n",
       "    <tr>\n",
       "      <th></th>\n",
       "      <th>mean</th>\n",
       "      <th>count</th>\n",
       "      <th>mean</th>\n",
       "      <th>count</th>\n",
       "    </tr>\n",
       "    <tr>\n",
       "      <th>num_performers</th>\n",
       "      <th></th>\n",
       "      <th></th>\n",
       "      <th></th>\n",
       "      <th></th>\n",
       "    </tr>\n",
       "  </thead>\n",
       "  <tbody>\n",
       "    <tr>\n",
       "      <th>1</th>\n",
       "      <td>41.863834</td>\n",
       "      <td>2071</td>\n",
       "      <td>544.853660</td>\n",
       "      <td>2071</td>\n",
       "    </tr>\n",
       "    <tr>\n",
       "      <th>2</th>\n",
       "      <td>38.748815</td>\n",
       "      <td>211</td>\n",
       "      <td>534.142038</td>\n",
       "      <td>211</td>\n",
       "    </tr>\n",
       "    <tr>\n",
       "      <th>3</th>\n",
       "      <td>25.352941</td>\n",
       "      <td>17</td>\n",
       "      <td>371.030588</td>\n",
       "      <td>17</td>\n",
       "    </tr>\n",
       "    <tr>\n",
       "      <th>4</th>\n",
       "      <td>34.000000</td>\n",
       "      <td>10</td>\n",
       "      <td>702.700000</td>\n",
       "      <td>10</td>\n",
       "    </tr>\n",
       "  </tbody>\n",
       "</table>\n",
       "</div>"
      ],
      "text/plain": [
       "               tickets_listed       mean_listing_price      \n",
       "                         mean count               mean count\n",
       "num_performers                                              \n",
       "1                   41.863834  2071         544.853660  2071\n",
       "2                   38.748815   211         534.142038   211\n",
       "3                   25.352941    17         371.030588    17\n",
       "4                   34.000000    10         702.700000    10"
      ]
     },
     "execution_count": 27,
     "metadata": {},
     "output_type": "execute_result"
    }
   ],
   "source": [
    "df_analysis.loc[df_analysis.taxonomy == 'Classical Orchestral'].groupby('num_performers')[target_variables].agg(['mean', 'count'])"
   ]
  },
  {
   "cell_type": "markdown",
   "metadata": {},
   "source": [
    "# Data Cleaning + Feature Engineering\n",
    "\n",
    "- Impute `null` values\n",
    "- Identify and handle severe outliers\n",
    "- Normalize ratio / interval values\n",
    "- Feature engineer nominal / ordinal values\n",
    "- Drop unusable features"
   ]
  },
  {
   "cell_type": "code",
   "execution_count": null,
   "metadata": {},
   "outputs": [],
   "source": []
  },
  {
   "cell_type": "markdown",
   "metadata": {},
   "source": [
    "# Splitting Data\n",
    "\n",
    "Upcoming events from 5/20/17 through 8/31/17 are set as null for `tickets_listed` and `mean_listing_price`, so I want to separate this data first as the holdout dataset.\n",
    "\n",
    "- `df_model`: Dataset that will be used for train/test split\n",
    "    - `df_train`: Dataset that will be used for training\n",
    "    - `df_test`: Dataset that will be used for testing\n",
    "- `df_holdout`: Dataset that will be used as holdout dataset\n",
    "\n",
    "**Note**: Later, I'll be using k-folds validation, so I'll be using the entirety of `df_model` to train, test, and compare different models instead of using `df_train` and `df_test`."
   ]
  },
  {
   "cell_type": "code",
   "execution_count": 17,
   "metadata": {},
   "outputs": [],
   "source": [
    "df_model = df[df.listing_date < '2017-08-01']\n",
    "df_holdout = df[df.listing_date >= '2017-08-01']"
   ]
  }
 ],
 "metadata": {
  "kernelspec": {
   "display_name": "Python 3.7.6 ('base')",
   "language": "python",
   "name": "python3"
  },
  "language_info": {
   "codemirror_mode": {
    "name": "ipython",
    "version": 3
   },
   "file_extension": ".py",
   "mimetype": "text/x-python",
   "name": "python",
   "nbconvert_exporter": "python",
   "pygments_lexer": "ipython3",
   "version": "3.7.6"
  },
  "orig_nbformat": 4,
  "vscode": {
   "interpreter": {
    "hash": "7c97395a93a5474d7b65a3a8091cb00dfc44eb04fbd70e23430306b1c85d6969"
   }
  }
 },
 "nbformat": 4,
 "nbformat_minor": 2
}
