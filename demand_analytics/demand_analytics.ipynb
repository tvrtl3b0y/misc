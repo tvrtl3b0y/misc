{
 "cells": [
  {
   "cell_type": "code",
   "execution_count": 1,
   "metadata": {},
   "outputs": [],
   "source": [
    "import pandas as pd\n",
    "import numpy as np\n",
    "from matplotlib import pyplot as plt\n",
    "import seaborn as sns"
   ]
  },
  {
   "cell_type": "code",
   "execution_count": 2,
   "metadata": {},
   "outputs": [
    {
     "data": {
      "text/html": [
       "<div>\n",
       "<style scoped>\n",
       "    .dataframe tbody tr th:only-of-type {\n",
       "        vertical-align: middle;\n",
       "    }\n",
       "\n",
       "    .dataframe tbody tr th {\n",
       "        vertical-align: top;\n",
       "    }\n",
       "\n",
       "    .dataframe thead th {\n",
       "        text-align: right;\n",
       "    }\n",
       "</style>\n",
       "<table border=\"1\" class=\"dataframe\">\n",
       "  <thead>\n",
       "    <tr style=\"text-align: right;\">\n",
       "      <th></th>\n",
       "      <th>event_id</th>\n",
       "      <th>listing_date</th>\n",
       "      <th>event_listing_date_id</th>\n",
       "      <th>taxonomy</th>\n",
       "      <th>event_title</th>\n",
       "      <th>event_datetime</th>\n",
       "      <th>tickets_listed</th>\n",
       "      <th>mean_listing_price</th>\n",
       "      <th>performer_1</th>\n",
       "      <th>performer_2</th>\n",
       "      <th>performer_3</th>\n",
       "      <th>performer_4</th>\n",
       "      <th>venue_name</th>\n",
       "    </tr>\n",
       "  </thead>\n",
       "  <tbody>\n",
       "    <tr>\n",
       "      <th>0</th>\n",
       "      <td>3594116</td>\n",
       "      <td>2017-06-01</td>\n",
       "      <td>3594116_17318</td>\n",
       "      <td>MLB Baseball</td>\n",
       "      <td>Arizona Diamondbacks at Los Angeles Dodgers</td>\n",
       "      <td>2017-07-06 19:10:00</td>\n",
       "      <td>13102.0</td>\n",
       "      <td>48.0</td>\n",
       "      <td>Los Angeles Dodgers</td>\n",
       "      <td>Arizona Diamondbacks</td>\n",
       "      <td>NaN</td>\n",
       "      <td>NaN</td>\n",
       "      <td>Dodger Stadium</td>\n",
       "    </tr>\n",
       "    <tr>\n",
       "      <th>1</th>\n",
       "      <td>3594065</td>\n",
       "      <td>2017-06-01</td>\n",
       "      <td>3594065_17318</td>\n",
       "      <td>MLB Baseball</td>\n",
       "      <td>Arizona Diamondbacks at Los Angeles Dodgers</td>\n",
       "      <td>2017-09-06 19:10:00</td>\n",
       "      <td>8942.0</td>\n",
       "      <td>56.0</td>\n",
       "      <td>Los Angeles Dodgers</td>\n",
       "      <td>Arizona Diamondbacks</td>\n",
       "      <td>NaN</td>\n",
       "      <td>NaN</td>\n",
       "      <td>Dodger Stadium</td>\n",
       "    </tr>\n",
       "    <tr>\n",
       "      <th>2</th>\n",
       "      <td>3594070</td>\n",
       "      <td>2017-06-01</td>\n",
       "      <td>3594070_17318</td>\n",
       "      <td>MLB Baseball</td>\n",
       "      <td>Arizona Diamondbacks at Los Angeles Dodgers</td>\n",
       "      <td>2017-09-04 17:10:00</td>\n",
       "      <td>10344.0</td>\n",
       "      <td>49.0</td>\n",
       "      <td>Los Angeles Dodgers</td>\n",
       "      <td>Arizona Diamondbacks</td>\n",
       "      <td>NaN</td>\n",
       "      <td>NaN</td>\n",
       "      <td>Dodger Stadium</td>\n",
       "    </tr>\n",
       "    <tr>\n",
       "      <th>3</th>\n",
       "      <td>3594118</td>\n",
       "      <td>2017-06-01</td>\n",
       "      <td>3594118_17318</td>\n",
       "      <td>MLB Baseball</td>\n",
       "      <td>Arizona Diamondbacks at Los Angeles Dodgers</td>\n",
       "      <td>2017-07-05 19:10:00</td>\n",
       "      <td>13130.0</td>\n",
       "      <td>32.0</td>\n",
       "      <td>Los Angeles Dodgers</td>\n",
       "      <td>Arizona Diamondbacks</td>\n",
       "      <td>NaN</td>\n",
       "      <td>NaN</td>\n",
       "      <td>Dodger Stadium</td>\n",
       "    </tr>\n",
       "    <tr>\n",
       "      <th>4</th>\n",
       "      <td>3594068</td>\n",
       "      <td>2017-06-01</td>\n",
       "      <td>3594068_17318</td>\n",
       "      <td>MLB Baseball</td>\n",
       "      <td>Arizona Diamondbacks at Los Angeles Dodgers</td>\n",
       "      <td>2017-09-05 19:10:00</td>\n",
       "      <td>11642.0</td>\n",
       "      <td>32.0</td>\n",
       "      <td>Los Angeles Dodgers</td>\n",
       "      <td>Arizona Diamondbacks</td>\n",
       "      <td>NaN</td>\n",
       "      <td>NaN</td>\n",
       "      <td>Dodger Stadium</td>\n",
       "    </tr>\n",
       "  </tbody>\n",
       "</table>\n",
       "</div>"
      ],
      "text/plain": [
       "   event_id listing_date event_listing_date_id      taxonomy  \\\n",
       "0   3594116   2017-06-01         3594116_17318  MLB Baseball   \n",
       "1   3594065   2017-06-01         3594065_17318  MLB Baseball   \n",
       "2   3594070   2017-06-01         3594070_17318  MLB Baseball   \n",
       "3   3594118   2017-06-01         3594118_17318  MLB Baseball   \n",
       "4   3594068   2017-06-01         3594068_17318  MLB Baseball   \n",
       "\n",
       "                                   event_title      event_datetime  \\\n",
       "0  Arizona Diamondbacks at Los Angeles Dodgers 2017-07-06 19:10:00   \n",
       "1  Arizona Diamondbacks at Los Angeles Dodgers 2017-09-06 19:10:00   \n",
       "2  Arizona Diamondbacks at Los Angeles Dodgers 2017-09-04 17:10:00   \n",
       "3  Arizona Diamondbacks at Los Angeles Dodgers 2017-07-05 19:10:00   \n",
       "4  Arizona Diamondbacks at Los Angeles Dodgers 2017-09-05 19:10:00   \n",
       "\n",
       "   tickets_listed  mean_listing_price          performer_1  \\\n",
       "0         13102.0                48.0  Los Angeles Dodgers   \n",
       "1          8942.0                56.0  Los Angeles Dodgers   \n",
       "2         10344.0                49.0  Los Angeles Dodgers   \n",
       "3         13130.0                32.0  Los Angeles Dodgers   \n",
       "4         11642.0                32.0  Los Angeles Dodgers   \n",
       "\n",
       "            performer_2 performer_3 performer_4      venue_name  \n",
       "0  Arizona Diamondbacks         NaN         NaN  Dodger Stadium  \n",
       "1  Arizona Diamondbacks         NaN         NaN  Dodger Stadium  \n",
       "2  Arizona Diamondbacks         NaN         NaN  Dodger Stadium  \n",
       "3  Arizona Diamondbacks         NaN         NaN  Dodger Stadium  \n",
       "4  Arizona Diamondbacks         NaN         NaN  Dodger Stadium  "
      ]
     },
     "execution_count": 2,
     "metadata": {},
     "output_type": "execute_result"
    }
   ],
   "source": [
    "df = pd.read_csv('data/assessment_data.tsv', sep='\\t', parse_dates=True)\n",
    "df['listing_date'] = pd.to_datetime(df.listing_date)\n",
    "df['event_datetime'] = pd.to_datetime(df.event_datetime)\n",
    "df.head()"
   ]
  },
  {
   "cell_type": "code",
   "execution_count": 3,
   "metadata": {},
   "outputs": [
    {
     "data": {
      "text/plain": [
       "event_id                          int64\n",
       "listing_date             datetime64[ns]\n",
       "event_listing_date_id            object\n",
       "taxonomy                         object\n",
       "event_title                      object\n",
       "event_datetime           datetime64[ns]\n",
       "tickets_listed                  float64\n",
       "mean_listing_price              float64\n",
       "performer_1                      object\n",
       "performer_2                      object\n",
       "performer_3                      object\n",
       "performer_4                      object\n",
       "venue_name                       object\n",
       "dtype: object"
      ]
     },
     "execution_count": 3,
     "metadata": {},
     "output_type": "execute_result"
    }
   ],
   "source": [
    "df.dtypes"
   ]
  },
  {
   "cell_type": "code",
   "execution_count": 4,
   "metadata": {},
   "outputs": [
    {
     "data": {
      "text/plain": [
       "<matplotlib.axes._subplots.AxesSubplot at 0x1e6bb2cb1c8>"
      ]
     },
     "execution_count": 4,
     "metadata": {},
     "output_type": "execute_result"
    },
    {
     "data": {
      "image/png": "[encoded data removed]",
      "text/plain": [
       "<Figure size 432x288 with 2 Axes>"
      ]
     },
     "metadata": {
      "needs_background": "light"
     },
     "output_type": "display_data"
    }
   ],
   "source": [
    "sns.heatmap(df.isna())"
   ]
  },
  {
   "cell_type": "markdown",
   "metadata": {},
   "source": [
    "# Splitting Data\n",
    "\n",
    "Upcoming events from 5/20/17 through 8/31/17 are set as null for `tickets_listed` and `mean_listing_price`, so I want to separate this data first as the holdout dataset.\n",
    "\n",
    "- `df_model`: Dataset that will be used for train/test split\n",
    "- `df_holdout`: Dataset that will be used as holdout dataset"
   ]
  },
  {
   "cell_type": "code",
   "execution_count": 5,
   "metadata": {},
   "outputs": [],
   "source": [
    "df_model = df[df.listing_date < '2017-08-01'].isna()"
   ]
  },
  {
   "cell_type": "code",
   "execution_count": 6,
   "metadata": {},
   "outputs": [],
   "source": [
    "df_holdout = df[df.listing_date >= '2017-08-01']"
   ]
  },
  {
   "cell_type": "markdown",
   "metadata": {},
   "source": [
    "# Data Analysis\n",
    "\n",
    "Understand features more to understand how to build the model\n",
    "\n",
    "- Understand central tendency and distribution of features\n",
    "- Understand correlation between features and target variables"
   ]
  },
  {
   "cell_type": "code",
   "execution_count": 7,
   "metadata": {},
   "outputs": [
    {
     "data": {
      "text/plain": [
       "Index(['event_id', 'listing_date', 'event_listing_date_id', 'taxonomy',\n",
       "       'event_title', 'event_datetime', 'tickets_listed', 'mean_listing_price',\n",
       "       'performer_1', 'performer_2', 'performer_3', 'performer_4',\n",
       "       'venue_name'],\n",
       "      dtype='object')"
      ]
     },
     "execution_count": 7,
     "metadata": {},
     "output_type": "execute_result"
    }
   ],
   "source": [
    "df.columns"
   ]
  },
  {
   "cell_type": "code",
   "execution_count": 8,
   "metadata": {},
   "outputs": [
    {
     "data": {
      "text/plain": [
       "Classical Orchestral     4043\n",
       "MLB Baseball             2742\n",
       "Minor League Baseball    2054\n",
       "Name: taxonomy, dtype: int64"
      ]
     },
     "execution_count": 8,
     "metadata": {},
     "output_type": "execute_result"
    }
   ],
   "source": [
    "df.taxonomy.value_counts()"
   ]
  },
  {
   "cell_type": "markdown",
   "metadata": {},
   "source": [
    "# Data Cleaning\n",
    "\n",
    "- Impute `null` values\n",
    "- Identify and handle severe outliers\n",
    "- Normalize ratio / interval values\n",
    "- Feature engineer nominal / ordinal values\n",
    "- Drop unusable features"
   ]
  },
  {
   "cell_type": "code",
   "execution_count": null,
   "metadata": {},
   "outputs": [],
   "source": []
  }
 ],
 "metadata": {
  "kernelspec": {
   "display_name": "Python 3.7.6 ('base')",
   "language": "python",
   "name": "python3"
  },
  "language_info": {
   "codemirror_mode": {
    "name": "ipython",
    "version": 3
   },
   "file_extension": ".py",
   "mimetype": "text/x-python",
   "name": "python",
   "nbconvert_exporter": "python",
   "pygments_lexer": "ipython3",
   "version": "3.7.6"
  },
  "orig_nbformat": 4,
  "vscode": {
   "interpreter": {
    "hash": "7c97395a93a5474d7b65a3a8091cb00dfc44eb04fbd70e23430306b1c85d6969"
   }
  }
 },
 "nbformat": 4,
 "nbformat_minor": 2
}
